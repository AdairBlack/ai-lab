{
 "cells": [
  {
   "cell_type": "code",
   "execution_count": null,
   "metadata": {},
   "outputs": [],
   "source": [
    "import matplotlib.pyplot as plt\n",
    "import pandas as pd\n",
    "import seaborn as sns\n",
    "\n",
    "iris_sns = sns.load_dataset('iris')\n",
    "\n",
    "fig, ax = plt.subplots(figsize=(8,6))\n",
    "\n",
    "sns.histplot(data = iris_sns, x=\"sepal_length\", binwidth=0.2, ax=ax)\n",
    "\n",
    "ax.axvline(x=iris_sns.sepal_length.mean(),\n",
    "           color='r', ls='--')"
   ]
  }
 ],
 "metadata": {
  "kernelspec": {
   "display_name": "lvm",
   "language": "python",
   "name": "python3"
  },
  "language_info": {
   "codemirror_mode": {
    "name": "ipython",
    "version": 3
   },
   "file_extension": ".py",
   "mimetype": "text/x-python",
   "name": "python",
   "nbconvert_exporter": "python",
   "pygments_lexer": "ipython3",
   "version": "3.11.9"
  }
 },
 "nbformat": 4,
 "nbformat_minor": 2
}
