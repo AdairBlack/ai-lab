{
 "cells": [
  {
   "cell_type": "code",
   "execution_count": null,
   "metadata": {},
   "outputs": [],
   "source": [
    "import matplotlib.pyplot as plt\n",
    "import pandas as pd\n",
    "import seaborn as sns\n",
    "\n",
    "iris_sns = sns.load_dataset('iris')\n",
    "\n",
    "fig, ax = plt.subplots(figsize=(8,6))\n",
    "\n",
    "sns.histplot(data = iris_sns, x=\"sepal_length\", binwidth=0.2, ax=ax)\n",
    "\n",
    "ax.axvline(x=iris_sns.sepal_length.mean(),\n",
    "           color='r', ls='--')\n",
    "\n",
    "fig, ax=plt.subplots(figsize=(8,6))\n",
    "\n",
    "sns.histplot(data=iris_sns, x=\"sepal_length\", hue='species', binwidth=0.2, ax=ax, element=\"step\", stat=\"density\")\n",
    "\n",
    "fig, ax = plt.subplots(figsize=(8,6))\n",
    "sns.kdeplot(data=iris_sns, x=\"sepal_length\", bw_adjust=0.5, fill = True)\n",
    "sns.rugplot(data=iris_sns, x=\"sepal_length\")\n",
    "\n",
    "fig, ax = plt.subplots(figsize=(8,6))\n",
    "sns.kdeplot(data=iris_sns, x=\"sepal_length\", bw_adjust=0.5, fill = True, hue='species')\n",
    "sns.rugplot(data=iris_sns, x=\"sepal_length\", hue='species')\n",
    "\n",
    "fig, ax = plt.subplots(figsize=(8,6))\n",
    "sns.kdeplot(data=iris_sns, x=\"sepal_length\", bw_adjust=0.5, hue='species', multiple='stack')\n",
    "\n",
    "fig, ax = plt.subplots(figsize=(8,6))\n",
    "sns.kdeplot(data=iris_sns, x=\"sepal_length\", bw_adjust=0.5, hue='species', multiple='fill')"
   ]
  }
 ],
 "metadata": {
  "kernelspec": {
   "display_name": "lvm",
   "language": "python",
   "name": "python3"
  },
  "language_info": {
   "codemirror_mode": {
    "name": "ipython",
    "version": 3
   },
   "file_extension": ".py",
   "mimetype": "text/x-python",
   "name": "python",
   "nbconvert_exporter": "python",
   "pygments_lexer": "ipython3",
   "version": "3.11.9"
  }
 },
 "nbformat": 4,
 "nbformat_minor": 2
}
