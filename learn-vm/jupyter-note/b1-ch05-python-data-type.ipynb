{
 "cells": [
  {
   "cell_type": "code",
   "execution_count": 3,
   "id": "20127c24-37da-4eff-bf4e-aee7a2899fac",
   "metadata": {},
   "outputs": [
    {
     "data": {
      "text/plain": [
       "array([0, 1, 2, 3, 4, 5, 6, 7, 8, 9])"
      ]
     },
     "execution_count": 3,
     "metadata": {},
     "output_type": "execute_result"
    }
   ],
   "source": [
    "import numpy as np\n",
    "x_array = np.arange(10)\n",
    "x_array"
   ]
  },
  {
   "cell_type": "code",
   "execution_count": 1,
   "id": "76025cdf-321d-4f6b-9884-339577063389",
   "metadata": {},
   "outputs": [
    {
     "data": {
      "text/plain": [
       "3.5"
      ]
     },
     "execution_count": 1,
     "metadata": {},
     "output_type": "execute_result"
    }
   ],
   "source": [
    "def my_function(x, y):\n",
    "    return x + y\n",
    "    \n",
    "my_function(1.5,2)"
   ]
  },
  {
   "cell_type": "code",
   "execution_count": 3,
   "id": "4ac69135-7750-46d9-806e-8cd711138482",
   "metadata": {},
   "outputs": [
    {
     "name": "stdout",
     "output_type": "stream",
     "text": [
      "type x: <class 'int'>\n",
      "type y: <class 'float'>\n",
      "type z: <class 'complex'>\n"
     ]
    }
   ],
   "source": [
    "x = 88\n",
    "y = -8.88\n",
    "z = 8 + 8j\n",
    "print(f\"type x: {type(x)}\")\n",
    "print(f\"type y: {type(y)}\")\n",
    "print(f\"type z: {type(z)}\")"
   ]
  },
  {
   "cell_type": "code",
   "execution_count": 4,
   "id": "42ae1116-7749-46ac-aaba-c465d39951e5",
   "metadata": {},
   "outputs": [
    {
     "name": "stdout",
     "output_type": "stream",
     "text": [
      "[1, 2, 3, 4, 5, 6, 7, 8]\n",
      "[2, 3, 4, 5, 6, 7, 8]\n"
     ]
    }
   ],
   "source": [
    "list_0 = [0, 1, 2, 3, 4, 5, 6, 7, 8]\n",
    "first, *list_rest = list_0\n",
    "print(list_rest)\n",
    "first, second, *list_rest = list_0\n",
    "print(list_rest)"
   ]
  },
  {
   "cell_type": "code",
   "execution_count": 2,
   "id": "33f6775a",
   "metadata": {},
   "outputs": [
    {
     "data": {
      "text/plain": [
       "numpy.ndarray"
      ]
     },
     "execution_count": 2,
     "metadata": {},
     "output_type": "execute_result"
    }
   ],
   "source": [
    "from sklearn.datasets import load_iris\n",
    "\n",
    "iris = load_iris()\n",
    "\n",
    "X = iris.data\n",
    "type(X)\n",
    "\n",
    "y = iris.target\n",
    "type(y)\n"
   ]
  },
  {
   "cell_type": "code",
   "execution_count": 1,
   "id": "95103b23",
   "metadata": {},
   "outputs": [
    {
     "data": {
      "text/plain": [
       "pandas.core.frame.DataFrame"
      ]
     },
     "execution_count": 1,
     "metadata": {},
     "output_type": "execute_result"
    }
   ],
   "source": [
    "import seaborn as sns\n",
    "\n",
    "iris_df = sns.load_dataset(\"iris\")\n",
    "iris_df.head()\n",
    "type(iris_df)"
   ]
  }
 ],
 "metadata": {
  "kernelspec": {
   "display_name": "Python 3 (ipykernel)",
   "language": "python",
   "name": "python3"
  },
  "language_info": {
   "codemirror_mode": {
    "name": "ipython",
    "version": 3
   },
   "file_extension": ".py",
   "mimetype": "text/x-python",
   "name": "python",
   "nbconvert_exporter": "python",
   "pygments_lexer": "ipython3",
   "version": "3.11.9"
  }
 },
 "nbformat": 4,
 "nbformat_minor": 5
}
