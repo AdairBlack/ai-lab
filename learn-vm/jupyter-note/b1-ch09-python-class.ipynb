{
 "cells": [
  {
   "cell_type": "code",
   "execution_count": null,
   "metadata": {},
   "outputs": [],
   "source": [
    "class Chicken:\n",
    "    def __init__(self, name, age):\n",
    "        self.name = name\n",
    "        self.age = age\n",
    "\n",
    "chicken_01 = Chicken(\"Alice\", 2)\n",
    "chicken_02 = Chicken(\"Bob\", 3)\n",
    "\n",
    "print(chicken_01.name)\n",
    "print(chicken_01.age)\n",
    "print(chicken_02.name)\n",
    "print(chicken_02.age)"
   ]
  },
  {
   "cell_type": "code",
   "execution_count": null,
   "metadata": {},
   "outputs": [],
   "source": [
    "class ListStatistics:\n",
    "    def __init__(self, data):\n",
    "        self.data = data\n",
    "\n",
    "    def list_length(self):\n",
    "        return len(self.data)\n",
    "\n",
    "    def list_sum(self):\n",
    "        return sum(self.data)\n",
    "\n",
    "    def list_mean(self):\n",
    "        return sum(self.data) / len(self.data)\n",
    "\n",
    "    def list_variance(self, ddof = 1):\n",
    "        sum_squares = sum((x - self.list_mean())**2 for x in self.data)\n",
    "        return sum_squares / (len(self.data) - ddof)\n",
    "\n",
    "data = [8.8, 1.8, 7.8, 3.8, 2.8, 5.6, 3.9, 6.9]\n",
    "\n",
    "float_list = ListStatistics(data)\n",
    "\n",
    "print(f\"list length: {float_list.list_length()}\")\n",
    "print(f\"list sum: {float_list.list_sum()}\")\n",
    "print(f\"list mean: {float_list.list_mean()}\")\n",
    "print(f\"list variance: {float_list.list_variance()}\")\n",
    "print(f\"list variance(ddof = 0): {float_list.list_variance(ddof = 0)}\")"
   ]
  }
 ],
 "metadata": {
  "kernelspec": {
   "display_name": "lvm",
   "language": "python",
   "name": "python3"
  },
  "language_info": {
   "codemirror_mode": {
    "name": "ipython",
    "version": 3
   },
   "file_extension": ".py",
   "mimetype": "text/x-python",
   "name": "python",
   "nbconvert_exporter": "python",
   "pygments_lexer": "ipython3",
   "version": "3.11.9"
  }
 },
 "nbformat": 4,
 "nbformat_minor": 2
}
