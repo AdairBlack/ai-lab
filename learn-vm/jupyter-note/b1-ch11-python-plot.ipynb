{
 "cells": [
  {
   "cell_type": "code",
   "execution_count": null,
   "metadata": {},
   "outputs": [],
   "source": [
    "import matplotlib.pyplot as plt\n",
    "from sklearn.datasets import load_iris\n",
    "import numpy as np\n",
    "\n",
    "iris = load_iris()\n",
    "\n",
    "sepal_length = iris.data[:, 0]\n",
    "sepal_width = iris.data[:, 1]\n",
    "target = iris.target\n",
    "\n",
    "fig, ax = plt.subplots()\n",
    "\n",
    "plt.scatter(sepal_length, sepal_width, c=target, cmap='rainbow')\n",
    "\n",
    "plt.title('Iris sepal length vs width')\n",
    "plt.xlabel('sepal length (cm)')\n",
    "plt.ylabel('sepal width (cm)')\n",
    "\n",
    "ax.set_xticks(np.arange(4, 8 + 1, step=1))\n",
    "ax.set_yticks(np.arange(2, 5 + 1, step=1))\n",
    "\n",
    "ax.axis('scaled')\n",
    "ax.grid (linestyle='--', linewidth=0.25, color=[0.7, 0.7, 0.7])\n",
    "\n",
    "ax.set_xbound(lower = 4, upper = 8)\n",
    "ax.set_ybound(lower = 1, upper = 5)\n",
    "\n",
    "plt.show()\n",
    "\n",
    "print(f\"iris.target: {iris.target}\")\n",
    "print(f\"np.unique(iris.target): {np.unique(iris.target)}\")"
   ]
  }
 ],
 "metadata": {
  "kernelspec": {
   "display_name": "lvm",
   "language": "python",
   "name": "python3"
  },
  "language_info": {
   "codemirror_mode": {
    "name": "ipython",
    "version": 3
   },
   "file_extension": ".py",
   "mimetype": "text/x-python",
   "name": "python",
   "nbconvert_exporter": "python",
   "pygments_lexer": "ipython3",
   "version": "3.11.9"
  }
 },
 "nbformat": 4,
 "nbformat_minor": 2
}
