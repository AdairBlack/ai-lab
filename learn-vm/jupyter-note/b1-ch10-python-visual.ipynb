{
 "cells": [
  {
   "cell_type": "code",
   "execution_count": null,
   "metadata": {},
   "outputs": [],
   "source": [
    "import numpy as np\n",
    "import matplotlib.pyplot as plt\n",
    "\n",
    "x = np.linspace(0, 2*np.pi, 100)\n",
    "y_sin = np.sin(x)\n",
    "y_cos = np.cos(x)\n",
    "\n",
    "fig, (ax1, ax2) = plt.subplots(1, 2, \n",
    "                               figsize=(10, 4),\n",
    "                               sharey=True)\n",
    "\n",
    "ax1.plot(x, y_sin, color='blue')\n",
    "ax1.set_title('Sine function')\n",
    "ax1.set_xlabel('x')\n",
    "ax1.set_ylabel('f(x)',\n",
    "               rotation='horizontal',\n",
    "               ha='right')\n",
    "ax1.set_xlim(0, 2*np.pi)\n",
    "ax1.set_ylim(-1.5, 1.5)\n",
    "x_ticks = np.arange(0, 2*np.pi + np.pi/2, np.pi)\n",
    "x_ticklabels = ['0', r'$\\pi$', r'$2\\pi$']\n",
    "ax1.set_xticks(x_ticks)\n",
    "ax1.set_xticklabels(x_ticklabels)\n",
    "ax1.grid(True)\n",
    "ax1.set_aspect('equal')\n",
    "\n",
    "ax2.plot(x, y_cos, color='red')\n",
    "ax2.set_title('Cosine function')\n",
    "ax2.set_xlabel('x')\n",
    "ax2.set_ylabel('f(x)',\n",
    "               rotation='horizontal',\n",
    "               ha='right')\n",
    "ax2.set_xlim(0, 2*np.pi)\n",
    "ax2.set_ylim(-1.5, 1.5)\n",
    "ax2.set_xticks(x_ticks)\n",
    "ax2.set_xticklabels(x_ticklabels)\n",
    "ax2.grid(True)\n",
    "ax2.set_aspect('equal')\n",
    "\n",
    "plt.tight_layout()\n",
    "\n",
    "plt.show()"
   ]
  },
  {
   "cell_type": "code",
   "execution_count": null,
   "metadata": {},
   "outputs": [],
   "source": [
    "import plotly.express as px\n",
    "import numpy as np\n",
    "\n",
    "x = np.linspace(0, 2*np.pi, 100)\n",
    "\n",
    "y_sin = np.sin(x)\n",
    "y_cos = np.cos(x)\n",
    "\n",
    "fig = px.line(x=x, y=[y_sin, y_cos],\n",
    "              labels={'y': 'f(x)', 'x': 'x'})\n",
    "\n",
    "fig.data[0].name = 'Sine'\n",
    "fig.data[1].name = 'Cosine'\n",
    "\n",
    "fig.show()"
   ]
  },
  {
   "cell_type": "code",
   "execution_count": null,
   "metadata": {},
   "outputs": [],
   "source": [
    "import plotly.express as px\n",
    "import numpy as np\n",
    "import pandas as pd\n",
    "\n",
    "x = np.linspace(0, 2*np.pi, 100)\n",
    "\n",
    "y_sin = np.sin(x)\n",
    "y_cos = np.cos(x)\n",
    "\n",
    "df = pd.DataFrame({'x': x, 'Sine': y_sin, 'Cosine': y_cos})\n",
    "\n",
    "fig = px.line(df, x='x', y=['Sine', 'Cosine'],\n",
    "              labels={'value': 'f(x)', 'X': 'x'})\n",
    "\n",
    "fig.show()"
   ]
  }
 ],
 "metadata": {
  "kernelspec": {
   "display_name": "lvm",
   "language": "python",
   "name": "python3"
  },
  "language_info": {
   "codemirror_mode": {
    "name": "ipython",
    "version": 3
   },
   "file_extension": ".py",
   "mimetype": "text/x-python",
   "name": "python",
   "nbconvert_exporter": "python",
   "pygments_lexer": "ipython3",
   "version": "3.11.9"
  }
 },
 "nbformat": 4,
 "nbformat_minor": 2
}
