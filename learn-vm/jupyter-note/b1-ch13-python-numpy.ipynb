{
 "cells": [
  {
   "cell_type": "code",
   "execution_count": null,
   "metadata": {},
   "outputs": [],
   "source": [
    "import numpy as np\n",
    "\n",
    "arr1 = np.array([1, 2, 3, 4])\n",
    "arr2 = np.array([1, 2, 3, 4], dtype = float)\n",
    "arr3 = np.array([(1, 2, 3), (4, 5, 6)])\n",
    "arr4 = np.array([1, 2, 3, 4], ndmin = 2)\n",
    "\n",
    "print(f\"arr1: {arr1}\")\n",
    "print(f\"arr2: {arr2}\")\n",
    "print(f\"arr3: {arr3}\")\n",
    "print(f\"arr4: {arr4}\")"
   ]
  }
 ],
 "metadata": {
  "language_info": {
   "name": "python"
  }
 },
 "nbformat": 4,
 "nbformat_minor": 2
}
